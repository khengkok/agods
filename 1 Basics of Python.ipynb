{
 "cells": [
  {
   "cell_type": "markdown",
   "metadata": {},
   "source": [
    "# Basics of Python\n",
    "\n",
    "\n",
    "By the end of this practical, you will be able to\n",
    "\n",
    "* Create and execute basic Python programs\n",
    "* Comprehend and explain basic Python languages features\n",
    "* Access and modify files"
   ]
  },
  {
   "cell_type": "markdown",
   "metadata": {},
   "source": [
    "# Basic language features"
   ]
  },
  {
   "cell_type": "markdown",
   "metadata": {},
   "source": [
    "## Variables"
   ]
  },
  {
   "cell_type": "markdown",
   "metadata": {},
   "source": [
    "A name that is used to denote something or a value is called a variable. \n",
    "\n",
    "* Each variable has a name and a scope\n",
    "* A variable will be declared upon assignment if it has not been declared before.\n",
    "* A variable's name must start with 'a' to 'z', 'A' to 'Z' or '\\_', followed by any number of alpha-numeric characters or '_'\n",
    "* A variable cannot be named using special keywords such as print, if, switch and etc.\n",
    "* here are some valid variable names\n",
    "```python\n",
    "x1\n",
    "first_name\n",
    "_one\n",
    "```\n",
    "* here are some invalid variable names\n",
    "```python\n",
    "1x\n",
    "first.name\n",
    "print\n",
    "```"
   ]
  },
  {
   "cell_type": "markdown",
   "metadata": {},
   "source": [
    "## Statements"
   ]
  },
  {
   "cell_type": "markdown",
   "metadata": {},
   "source": [
    "A statement is a program instruction to be executed (most of the time).\n",
    "* basic building blocks in python program (for most of\n",
    "  the imperative programming languages).\n",
    "\n",
    "Examples\n",
    "* if statement\n",
    "* for statement\n",
    "* while statement\n",
    "* switch statement\n",
    "* ...\n",
    "\n",
    "#### Assignment statements - The content of a variable can be changed via assignment statements as follows,"
   ]
  },
  {
   "cell_type": "code",
   "execution_count": 2,
   "metadata": {},
   "outputs": [],
   "source": [
    "x = 6\n",
    "y = -5\n",
    "xy = 'Hello World'"
   ]
  },
  {
   "cell_type": "markdown",
   "metadata": {},
   "source": [
    "#### Print statements\n",
    "\n",
    "There are multiple ways to join values for printing out."
   ]
  },
  {
   "cell_type": "code",
   "execution_count": 3,
   "metadata": {
    "collapsed": false,
    "jupyter": {
     "outputs_hidden": false
    }
   },
   "outputs": [
    {
     "name": "stdout",
     "output_type": "stream",
     "text": [
      "1 Hello World\n"
     ]
    }
   ],
   "source": [
    "print (x+y, xy)"
   ]
  },
  {
   "cell_type": "markdown",
   "metadata": {},
   "source": [
    "##### Note that str() converts an intenger value into a string value."
   ]
  },
  {
   "cell_type": "code",
   "execution_count": 4,
   "metadata": {},
   "outputs": [
    {
     "name": "stdout",
     "output_type": "stream",
     "text": [
      "1 Hello World\n"
     ]
    }
   ],
   "source": [
    "print (str(x+y) + \" \" + xy)"
   ]
  },
  {
   "cell_type": "markdown",
   "metadata": {},
   "source": [
    "##### Note that %s is a template holder for string value, %d is for integer value, %f is for float number."
   ]
  },
  {
   "cell_type": "code",
   "execution_count": 5,
   "metadata": {},
   "outputs": [
    {
     "name": "stdout",
     "output_type": "stream",
     "text": [
      "1 Hello World\n"
     ]
    }
   ],
   "source": [
    "print(\"%d %s\" % (x+y, xy))"
   ]
  },
  {
   "cell_type": "code",
   "execution_count": 7,
   "metadata": {},
   "outputs": [
    {
     "name": "stdout",
     "output_type": "stream",
     "text": [
      "1.00 Hello World\n"
     ]
    }
   ],
   "source": [
    "print(\"%.2f %s\" % (x+y, xy))"
   ]
  },
  {
   "cell_type": "markdown",
   "metadata": {},
   "source": [
    "### Do you know?"
   ]
  },
  {
   "cell_type": "markdown",
   "metadata": {},
   "source": [
    "Multiple variables can be assigned with the same value."
   ]
  },
  {
   "cell_type": "code",
   "execution_count": 3,
   "metadata": {},
   "outputs": [],
   "source": [
    "x = y = 1"
   ]
  },
  {
   "cell_type": "code",
   "execution_count": 4,
   "metadata": {
    "collapsed": false,
    "jupyter": {
     "outputs_hidden": false
    }
   },
   "outputs": [
    {
     "name": "stdout",
     "output_type": "stream",
     "text": [
      "1 1\n"
     ]
    }
   ],
   "source": [
    "print (x,y)"
   ]
  },
  {
   "cell_type": "markdown",
   "metadata": {},
   "source": [
    "### Do you know Types?\n",
    "\n",
    "At times, we need to check the types of the given variables, especially when we are debugging. Types are static information of the possible run-time value, e.g. ```int```, ```string```, ```boolean``` and ```float``` etc.\n",
    "\n",
    "Though Python is not strict about types, it is a good habit to ensure the types are matching, e.g. we don't want to add a string value to float value, which may yield errors or undesired outcome.\n",
    "\n",
    "To check for type of given value, we can use the built-in function ```type()```.\n",
    "For example\n",
    "\n",
    "```python\n",
    "type(first_name)\n",
    "```\n"
   ]
  },
  {
   "cell_type": "markdown",
   "metadata": {},
   "source": [
    "# Operators"
   ]
  },
  {
   "cell_type": "markdown",
   "metadata": {},
   "source": [
    "### Arithmetic Operators"
   ]
  },
  {
   "cell_type": "markdown",
   "metadata": {},
   "source": [
    "| Symbol | Task Performed |\n",
    "|----|---|\n",
    "| +  | Addition |\n",
    "| -  | Subtraction |\n",
    "| /  | division |\n",
    "| %  | mod |\n",
    "| *  | multiplication |\n",
    "| //  | floor division |\n",
    "| **  | to the power of |"
   ]
  },
  {
   "cell_type": "code",
   "execution_count": 5,
   "metadata": {
    "collapsed": false,
    "jupyter": {
     "outputs_hidden": false
    }
   },
   "outputs": [
    {
     "data": {
      "text/plain": [
       "3"
      ]
     },
     "execution_count": 5,
     "metadata": {},
     "output_type": "execute_result"
    }
   ],
   "source": [
    "1+2"
   ]
  },
  {
   "cell_type": "code",
   "execution_count": 6,
   "metadata": {
    "collapsed": false,
    "jupyter": {
     "outputs_hidden": false
    }
   },
   "outputs": [
    {
     "data": {
      "text/plain": [
       "1"
      ]
     },
     "execution_count": 6,
     "metadata": {},
     "output_type": "execute_result"
    }
   ],
   "source": [
    "2-1"
   ]
  },
  {
   "cell_type": "code",
   "execution_count": 10,
   "metadata": {
    "collapsed": false,
    "jupyter": {
     "outputs_hidden": false
    }
   },
   "outputs": [
    {
     "data": {
      "text/plain": [
       "2"
      ]
     },
     "execution_count": 10,
     "metadata": {},
     "output_type": "execute_result"
    }
   ],
   "source": [
    "1*2"
   ]
  },
  {
   "cell_type": "markdown",
   "metadata": {},
   "source": [
    "Division (/) always returns a float for Python 3.7"
   ]
  },
  {
   "cell_type": "code",
   "execution_count": 11,
   "metadata": {
    "collapsed": false,
    "jupyter": {
     "outputs_hidden": false
    }
   },
   "outputs": [
    {
     "data": {
      "text/plain": [
       "0.5"
      ]
     },
     "execution_count": 11,
     "metadata": {},
     "output_type": "execute_result"
    }
   ],
   "source": [
    "1/2"
   ]
  },
  {
   "cell_type": "markdown",
   "metadata": {},
   "source": [
    "Floor division (//) will discard the fractional part"
   ]
  },
  {
   "cell_type": "code",
   "execution_count": 13,
   "metadata": {
    "collapsed": false,
    "jupyter": {
     "outputs_hidden": false
    }
   },
   "outputs": [
    {
     "data": {
      "text/plain": [
       "0"
      ]
     },
     "execution_count": 13,
     "metadata": {},
     "output_type": "execute_result"
    }
   ],
   "source": [
    "1//2"
   ]
  },
  {
   "cell_type": "code",
   "execution_count": 14,
   "metadata": {
    "collapsed": false,
    "jupyter": {
     "outputs_hidden": false
    }
   },
   "outputs": [
    {
     "data": {
      "text/plain": [
       "1.0"
      ]
     },
     "execution_count": 14,
     "metadata": {},
     "output_type": "execute_result"
    }
   ],
   "source": [
    "2.8//2.0"
   ]
  },
  {
   "cell_type": "markdown",
   "metadata": {},
   "source": [
    "The % operator returns the remainder of the division"
   ]
  },
  {
   "cell_type": "code",
   "execution_count": 15,
   "metadata": {
    "collapsed": false,
    "jupyter": {
     "outputs_hidden": false
    }
   },
   "outputs": [
    {
     "data": {
      "text/plain": [
       "5"
      ]
     },
     "execution_count": 15,
     "metadata": {},
     "output_type": "execute_result"
    }
   ],
   "source": [
    "15%10"
   ]
  },
  {
   "cell_type": "markdown",
   "metadata": {},
   "source": [
    "### Relational Operators\n",
    "\n",
    "These operators define/test the relation between 2 entities, providing a boolean result stating whether the test performed is True or False."
   ]
  },
  {
   "cell_type": "markdown",
   "metadata": {},
   "source": [
    "#### Do you know Boolean Values?\n",
    "\n",
    "There are only two Boolean values.\n",
    "\n",
    "* ```True```\n",
    "* ```False```\n",
    "\n",
    "They are \"printable\".\n",
    "\n",
    "```python\n",
    ">>> True\n",
    "True\n",
    ">>> print(False)\n",
    "False\n",
    "```"
   ]
  },
  {
   "cell_type": "markdown",
   "metadata": {},
   "source": [
    "| Symbol | Test Performed |\n",
    "|----|---|\n",
    "| == | True, if it is equal |\n",
    "| !=  | True, if not equal to |\n",
    "| < | less than |\n",
    "| > | greater than |\n",
    "| <=  | less than or equal to |\n",
    "| >=  | greater than or equal to |"
   ]
  },
  {
   "cell_type": "markdown",
   "metadata": {},
   "source": [
    "Note the difference between an assignment statement using (=) and the relational operators (==)"
   ]
  },
  {
   "cell_type": "code",
   "execution_count": 16,
   "metadata": {},
   "outputs": [],
   "source": [
    "z = 1"
   ]
  },
  {
   "cell_type": "code",
   "execution_count": 17,
   "metadata": {
    "collapsed": false,
    "jupyter": {
     "outputs_hidden": false
    }
   },
   "outputs": [
    {
     "data": {
      "text/plain": [
       "True"
      ]
     },
     "execution_count": 17,
     "metadata": {},
     "output_type": "execute_result"
    }
   ],
   "source": [
    "z == 1"
   ]
  },
  {
   "cell_type": "code",
   "execution_count": 18,
   "metadata": {
    "collapsed": false,
    "jupyter": {
     "outputs_hidden": false
    }
   },
   "outputs": [
    {
     "data": {
      "text/plain": [
       "False"
      ]
     },
     "execution_count": 18,
     "metadata": {},
     "output_type": "execute_result"
    }
   ],
   "source": [
    "z > 1"
   ]
  },
  {
   "cell_type": "markdown",
   "metadata": {},
   "source": [
    "### Bitwise Operators"
   ]
  },
  {
   "cell_type": "markdown",
   "metadata": {},
   "source": [
    "| Symbol | Task Performed |\n",
    "|----|---|\n",
    "| &  | Logical And |\n",
    "| l  | Logical OR |\n",
    "| ^  | XOR |\n",
    "| ~  | Negate |\n",
    "| >>  | Right shift |\n",
    "| <<  | Left shift |\n",
    "\n",
    "*Note that negating a boolean data using ~ is done bitwise. \n",
    "\n",
    "\n",
    "```python\n",
    ">>> ~True\n",
    "-2\n",
    ">>> ~False\n",
    "-1\n",
    "```"
   ]
  },
  {
   "cell_type": "code",
   "execution_count": 33,
   "metadata": {},
   "outputs": [],
   "source": [
    "a = 2 #10\n",
    "b = 3 #11"
   ]
  },
  {
   "cell_type": "code",
   "execution_count": 34,
   "metadata": {
    "collapsed": false,
    "jupyter": {
     "outputs_hidden": false
    }
   },
   "outputs": [
    {
     "name": "stdout",
     "output_type": "stream",
     "text": [
      "2\n",
      "0b10\n",
      "0b0\n"
     ]
    }
   ],
   "source": [
    "print (a & b)\n",
    "print (bin(a&b))\n",
    "print (bin(False))"
   ]
  },
  {
   "cell_type": "code",
   "execution_count": 35,
   "metadata": {
    "collapsed": false,
    "jupyter": {
     "outputs_hidden": false
    }
   },
   "outputs": [
    {
     "data": {
      "text/plain": [
       "2"
      ]
     },
     "execution_count": 35,
     "metadata": {},
     "output_type": "execute_result"
    }
   ],
   "source": [
    "5 >> 1"
   ]
  },
  {
   "cell_type": "markdown",
   "metadata": {},
   "source": [
    "0000 0101 -> 5 \n",
    "\n",
    "Shifting the digits by 1 to the right and zero padding\n",
    "\n",
    "0000 0010 -> 2"
   ]
  },
  {
   "cell_type": "code",
   "execution_count": 30,
   "metadata": {
    "collapsed": false,
    "jupyter": {
     "outputs_hidden": false
    }
   },
   "outputs": [
    {
     "data": {
      "text/plain": [
       "10"
      ]
     },
     "execution_count": 30,
     "metadata": {},
     "output_type": "execute_result"
    }
   ],
   "source": [
    "5 << 1"
   ]
  },
  {
   "cell_type": "markdown",
   "metadata": {},
   "source": [
    "0000 0101 -> 5 \n",
    "\n",
    "Shifting the digits by 1 to the left and zero padding\n",
    "\n",
    "0000 1010 -> 10"
   ]
  },
  {
   "cell_type": "markdown",
   "metadata": {},
   "source": [
    "#Built-in Functions"
   ]
  },
  {
   "cell_type": "markdown",
   "metadata": {},
   "source": [
    "Python comes loaded with pre-built functions"
   ]
  },
  {
   "cell_type": "markdown",
   "metadata": {},
   "source": [
    "##Conversion from one system to another"
   ]
  },
  {
   "cell_type": "markdown",
   "metadata": {},
   "source": [
    "Conversion from hexadecimal to decimal is done by adding prefix **0x** to the hexadecimal value or vice versa by using built in **hex( )**, Octal to decimal by adding prefix **0** to the octal value or vice versa by using built in function **oct( )**."
   ]
  },
  {
   "cell_type": "code",
   "execution_count": 31,
   "metadata": {
    "collapsed": false,
    "jupyter": {
     "outputs_hidden": false
    }
   },
   "outputs": [
    {
     "data": {
      "text/plain": [
       "'0xaa'"
      ]
     },
     "execution_count": 31,
     "metadata": {},
     "output_type": "execute_result"
    }
   ],
   "source": [
    "hex(170)"
   ]
  },
  {
   "cell_type": "code",
   "execution_count": 32,
   "metadata": {
    "collapsed": false,
    "jupyter": {
     "outputs_hidden": false
    }
   },
   "outputs": [
    {
     "data": {
      "text/plain": [
       "170"
      ]
     },
     "execution_count": 32,
     "metadata": {},
     "output_type": "execute_result"
    }
   ],
   "source": [
    "0xAA"
   ]
  },
  {
   "cell_type": "code",
   "execution_count": 33,
   "metadata": {
    "collapsed": false,
    "jupyter": {
     "outputs_hidden": false
    }
   },
   "outputs": [
    {
     "data": {
      "text/plain": [
       "'0o10'"
      ]
     },
     "execution_count": 33,
     "metadata": {},
     "output_type": "execute_result"
    }
   ],
   "source": [
    "oct(8)"
   ]
  },
  {
   "cell_type": "code",
   "execution_count": 35,
   "metadata": {
    "collapsed": false,
    "jupyter": {
     "outputs_hidden": false
    }
   },
   "outputs": [
    {
     "data": {
      "text/plain": [
       "8"
      ]
     },
     "execution_count": 35,
     "metadata": {},
     "output_type": "execute_result"
    }
   ],
   "source": [
    "0o10"
   ]
  },
  {
   "cell_type": "markdown",
   "metadata": {},
   "source": [
    "**int( )** accepts two values when used for conversion, one is the value in a different number system and the other is its base. Note that input number in the different number system should be of string type."
   ]
  },
  {
   "cell_type": "code",
   "execution_count": 37,
   "metadata": {
    "collapsed": false,
    "jupyter": {
     "outputs_hidden": false
    }
   },
   "outputs": [
    {
     "name": "stdout",
     "output_type": "stream",
     "text": [
      "8\n",
      "170\n",
      "10\n"
     ]
    }
   ],
   "source": [
    "print (int('010',8))\n",
    "print (int('0xaa',16))\n",
    "print (int('1010',2))"
   ]
  },
  {
   "cell_type": "markdown",
   "metadata": {},
   "source": [
    "**int( )** can also be used to get only the integer value of a float number or can be used to convert a number which is of type string to integer format. Similarly, the function **str( )** can be used to convert the integer back to string format"
   ]
  },
  {
   "cell_type": "code",
   "execution_count": 39,
   "metadata": {
    "collapsed": false,
    "jupyter": {
     "outputs_hidden": false
    }
   },
   "outputs": [
    {
     "name": "stdout",
     "output_type": "stream",
     "text": [
      "7\n",
      "7\n"
     ]
    }
   ],
   "source": [
    "print (int(7.7))\n",
    "print (int('7'))"
   ]
  },
  {
   "cell_type": "markdown",
   "metadata": {},
   "source": [
    "Also note that function **bin( )** is used for binary and **float( )** for decimal/float values. **chr( )** is used for converting ASCII to its alphabet equivalent, **ord( )** is used for the other way round."
   ]
  },
  {
   "cell_type": "code",
   "execution_count": 40,
   "metadata": {
    "collapsed": false,
    "jupyter": {
     "outputs_hidden": false
    }
   },
   "outputs": [
    {
     "data": {
      "text/plain": [
       "'b'"
      ]
     },
     "execution_count": 40,
     "metadata": {},
     "output_type": "execute_result"
    }
   ],
   "source": [
    "chr(98)"
   ]
  },
  {
   "cell_type": "code",
   "execution_count": 41,
   "metadata": {
    "collapsed": false,
    "jupyter": {
     "outputs_hidden": false
    }
   },
   "outputs": [
    {
     "data": {
      "text/plain": [
       "98"
      ]
     },
     "execution_count": 41,
     "metadata": {},
     "output_type": "execute_result"
    }
   ],
   "source": [
    "ord('b')"
   ]
  },
  {
   "cell_type": "markdown",
   "metadata": {},
   "source": [
    "## Simplifying Arithmetic Operations"
   ]
  },
  {
   "cell_type": "markdown",
   "metadata": {},
   "source": [
    "**round( )** function rounds the input value to a specified number of places or to the nearest integer. "
   ]
  },
  {
   "cell_type": "code",
   "execution_count": 32,
   "metadata": {
    "collapsed": false,
    "jupyter": {
     "outputs_hidden": false
    }
   },
   "outputs": [
    {
     "name": "stdout",
     "output_type": "stream",
     "text": [
      "6\n",
      "4.56\n"
     ]
    }
   ],
   "source": [
    "print (round(5.6231))\n",
    "print (round(4.55892, 2))"
   ]
  },
  {
   "cell_type": "markdown",
   "metadata": {},
   "source": [
    "**complex( )** is used to define a complex number and **abs( )** outputs the absolute value of the same."
   ]
  },
  {
   "cell_type": "code",
   "execution_count": 33,
   "metadata": {
    "collapsed": false,
    "jupyter": {
     "outputs_hidden": false
    }
   },
   "outputs": [
    {
     "name": "stdout",
     "output_type": "stream",
     "text": [
      "5.385164807134504\n"
     ]
    }
   ],
   "source": [
    "c =complex('5+2j')\n",
    "print (abs(c))"
   ]
  },
  {
   "cell_type": "markdown",
   "metadata": {},
   "source": [
    "**divmod(x,y)** outputs the quotient and the remainder in a tuple(you will be learning about it in the further chapters) in the format (quotient, remainder). "
   ]
  },
  {
   "cell_type": "code",
   "execution_count": 34,
   "metadata": {
    "collapsed": false,
    "jupyter": {
     "outputs_hidden": false
    }
   },
   "outputs": [
    {
     "data": {
      "text/plain": [
       "(4, 1)"
      ]
     },
     "execution_count": 34,
     "metadata": {},
     "output_type": "execute_result"
    }
   ],
   "source": [
    "divmod(9,2)"
   ]
  },
  {
   "cell_type": "markdown",
   "metadata": {},
   "source": [
    "**isinstance( )** returns True, if the first argument is an instance of that class. Multiple classes can also be checked at once."
   ]
  },
  {
   "cell_type": "code",
   "execution_count": 35,
   "metadata": {
    "collapsed": false,
    "jupyter": {
     "outputs_hidden": false
    }
   },
   "outputs": [
    {
     "name": "stdout",
     "output_type": "stream",
     "text": [
      "True\n",
      "False\n",
      "True\n"
     ]
    }
   ],
   "source": [
    "print (isinstance(1, int))\n",
    "print (isinstance(1.0,int))\n",
    "print (isinstance(1.0,(int,float)))"
   ]
  },
  {
   "cell_type": "markdown",
   "metadata": {},
   "source": [
    "**pow(x,y,z)** can be used to find the power $x^y$ also the mod of the resulting value with the third specified number can be found i.e. : ($x^y$ % z)."
   ]
  },
  {
   "cell_type": "code",
   "execution_count": 1,
   "metadata": {
    "collapsed": false,
    "jupyter": {
     "outputs_hidden": false
    }
   },
   "outputs": [
    {
     "name": "stdout",
     "output_type": "stream",
     "text": [
      "27\n",
      "2\n"
     ]
    }
   ],
   "source": [
    "print (pow(3,3))\n",
    "print (pow(3,3,5))"
   ]
  },
  {
   "cell_type": "markdown",
   "metadata": {},
   "source": [
    "**range( )** function outputs the integers of the specified range. It can also be used to generate a series by specifying the difference between the two numbers within a particular range. The elements are returned in a list (will be discussing in detail later.)"
   ]
  },
  {
   "cell_type": "code",
   "execution_count": 2,
   "metadata": {
    "collapsed": false,
    "jupyter": {
     "outputs_hidden": false
    }
   },
   "outputs": [
    {
     "name": "stdout",
     "output_type": "stream",
     "text": [
      "range(0, 3)\n",
      "range(2, 9)\n",
      "range(2, 27, 8)\n"
     ]
    }
   ],
   "source": [
    "print (range(3))\n",
    "print (range(2,9))\n",
    "print (range(2,27,8))"
   ]
  },
  {
   "cell_type": "markdown",
   "metadata": {},
   "source": [
    "## If-else\n",
    "To define decision, we need to use if-else statement. A if-else statement has three components, namely, \n",
    "1. conditional expression\n",
    "2. then branch\n",
    "3. else branch\n",
    "\n",
    "```python\n",
    "if first_name == \"Kenny\":                     # conditional expression\n",
    "    print(\"I know %s.\" % first_name)          # then branch\n",
    "else:\n",
    "    print(\"I don't know %s.\"% first_name)     # else branch\n",
    "```\n",
    "\n",
    "Note that the else branch is optional. \n",
    "\n",
    "### Exercise \n",
    "What is the output of the following Python program?\n",
    "```python\n",
    "i = 1\n",
    "if (i / 2 >= 0.5):\n",
    "    print(\" %d / 2 is greater than or equal to 0.5\" % (i))\n",
    "else:\n",
    "    print(\" %d / 2 is less than 0.5\" % (i))\n",
    "```"
   ]
  },
  {
   "cell_type": "code",
   "execution_count": 3,
   "metadata": {},
   "outputs": [],
   "source": [
    "# todo: Exercise\n"
   ]
  },
  {
   "cell_type": "markdown",
   "metadata": {},
   "source": [
    "### Conditional expression\n",
    "\n",
    "Besides the if-else conditional statement, there is an if-else conditional expression in Python. Since it is an expression, it meant to be used in place of the right side of the assignment, or some function application argument. \n",
    "\n",
    "```python\n",
    "x = 1 / y if not (y == 0) else 0\n",
    "```\n",
    "which says, ```x``` will take the value of ```1/y``` as long as ```y``` is not zero, if ```y``` is zero, we assign ```0``` to ```x```.\n",
    "\n",
    "This conditional expression comes in handy in combination with the functional programming features mentioned later this practical."
   ]
  },
  {
   "cell_type": "markdown",
   "metadata": {},
   "source": [
    "### None value\n",
    "\n",
    "There is a very special value in Python, ```None```, which denotes some undefined value or sometimes a less-disruptive way of error. \n",
    "\n",
    "For example, \n",
    "\n",
    "We define a safe division function, \n",
    "\n",
    "```python\n",
    "def divide(x,y):\n",
    "    if y == 0:\n",
    "        return None\n",
    "    else:\n",
    "        return x / y\n",
    "```\n",
    "\n",
    "So now when we use ```divide()``` with some values, we should always check whether the returned value is ```None```.\n",
    "\n",
    "```python\n",
    "e = 10 \n",
    "d = 100 \n",
    "r = divide(e, d)\n",
    "\n",
    "if r is None:\n",
    "    print(\"division by zero error!\")\n",
    "else:\n",
    "    print(\"the result is %d \" % r)\n",
    "```\n",
    "\n",
    "### Exercise \n",
    "\n",
    "Can you re-define the ```divide()``` function using the conditional expression instead of the conditional statement?"
   ]
  },
  {
   "cell_type": "code",
   "execution_count": 4,
   "metadata": {},
   "outputs": [],
   "source": [
    "# todo: Exercise\n"
   ]
  },
  {
   "cell_type": "markdown",
   "metadata": {},
   "source": [
    "## For loop and while loop\n",
    "\n",
    "In order to repeat some instructions for a fixed number or an indefinite number times, we need loop.\n",
    "\n",
    "We use for-loop when we know the number of times that we want to repeat. (Though, we could also do that via while-loop, it is just more readable using for loop.)\n",
    "\n",
    "For-loop consists an iteration declaration, and the loop body (the statements we want to repeat). \n",
    "\n",
    "```python\n",
    "sum = 0\n",
    "for i in range(0,10): # iteration declaration\n",
    "    sum = sum + i     # body\n",
    "```\n",
    "\n",
    "Note ```range(x,y)``` is a built-in function which returns an ascending sequence of numbers starting from ```x``` ending with ```y-1```.\n",
    "\n",
    "\n",
    "A while-loop consists a loop condition, and the loop body (the statemnts we want to repeat).\n",
    "\n",
    "```python\n",
    "sum = 0\n",
    "i = 0\n",
    "while i < 10:     # loop condition\n",
    "    sum = sum + i # body\n",
    "    i = i + 1\n",
    "```\n",
    "\n",
    "While-loop is a more general and explicit form, which handles cases that we do not know explicitly the number of loops in advance. For instance, we want to keep prompting the user to key in the username and password, until the correct ones are entered.\n",
    "\n",
    "```python\n",
    "\n",
    "uname = input(\"user name:\")\n",
    "pw    = input(\"password:\")\n",
    "while not(is_matched(uname,pw)):\n",
    "    uname = input(\"user name:\")\n",
    "    pw    = input(\"password:\")\n",
    "```\n",
    "\n",
    "Note that the above code can't run unless we provide the defintion of `is_matched`, which we omitted here.\n",
    "\n",
    "\n",
    "### Exercise\n",
    "Write a Python program using for-loop to sum out all even numbers between 0 and 100. You can achieve the same result using while-loop. Please demonstrate and compare the two implementation.\n",
    "\n",
    "Hint: to test whether a number ```n``` is even, you may use ```n % 2 == 0```."
   ]
  },
  {
   "cell_type": "code",
   "execution_count": 5,
   "metadata": {},
   "outputs": [],
   "source": [
    "# todo: Exercise"
   ]
  },
  {
   "cell_type": "markdown",
   "metadata": {},
   "source": [
    "## Functions\n",
    "\n",
    "Functions are named code blocks which we would like to define once and re-use for multiple times. It is the first level of abstraction away implementation details to keep code simple, readable and resuable. \n",
    "\n",
    "A function consists a name, a set of formal arguments, and tbe function body. In the function body, the result of the computation might be returned. \n",
    "\n",
    "\n",
    "```python\n",
    "def sum(x,y): # sum is the name, x and y are parameters\n",
    "    return x + y # function body\n",
    "\n",
    "def print_twice(mesg):\n",
    "    print(mesg)\n",
    "    print(mesg) # no return results\n",
    "```\n",
    "\n",
    "To call / to invoke a function, we need to use the function name in combination with the *actual* arguments. \n",
    "\n",
    "```python\n",
    "print_twice(str(sum(10, 102)))\n",
    "\n",
    "```\n",
    "\n",
    "### Exercise\n",
    "Define and execute the ```sum``` and ```print_twice``` function.\n"
   ]
  },
  {
   "cell_type": "code",
   "execution_count": 6,
   "metadata": {},
   "outputs": [],
   "source": [
    "# todo: Exercise"
   ]
  },
  {
   "cell_type": "markdown",
   "metadata": {},
   "source": [
    "## Recursive functions\n",
    "\n",
    "A recursive function a function that calls itself in its body.\n",
    "\n",
    "e.g. \n",
    "```python\n",
    "def factorial(n):\n",
    "    if n <= 0:\n",
    "        return 1\n",
    "    else:\n",
    "        return factorial(n-1)*n\n",
    "```\n",
    "\n",
    "Recursion functions are closer to their mathematical formulation. \n",
    "\n",
    "### Exercise\n",
    "Can you define another version of ```factorial``` function that use a for-loop instead of recursion?"
   ]
  },
  {
   "cell_type": "code",
   "execution_count": 7,
   "metadata": {},
   "outputs": [],
   "source": [
    "# todo: Exercise"
   ]
  },
  {
   "cell_type": "markdown",
   "metadata": {},
   "source": [
    "## Higher order functions\n",
    "\n",
    "A function is a higher order function iff \n",
    "* it takes another function as its formal argument, or\n",
    "* it return another function as its result.\n",
    "\n",
    "```python\n",
    "def times2(x):\n",
    "    return x * 2\n",
    "\n",
    "def apply_twice(f,x):\n",
    "    return f(f(x))\n",
    "\n",
    "apply_twice(times2, 10)\n",
    "```\n",
    "\n",
    "### Exercise\n",
    "Define the above functions and observe the output\n",
    "\n"
   ]
  },
  {
   "cell_type": "code",
   "execution_count": 8,
   "metadata": {},
   "outputs": [],
   "source": [
    "# todo: Exercise\n"
   ]
  },
  {
   "cell_type": "markdown",
   "metadata": {},
   "source": [
    "## List\n",
    "\n",
    "A list is a data structure which denotes a collection of values. A list may have zero, one or more values.\n",
    "For instance, \n",
    "```python\n",
    "ns = [1,2,3,4]\n",
    "```\n",
    "\n",
    "The size of the list can be computed using the builtin ```len()``` function. \n",
    "\n",
    "```python\n",
    "len(ns)\n",
    "```\n",
    "\n",
    "To access an element in the list, we need case use the index operation, ```list_name[ index ]```, e.g.\n",
    "\n",
    "```python\n",
    "ns[0] # access the first element in the list.\n",
    "```\n",
    "\n",
    "To append an element to a list, we can call the ```.append()``` method. e.g.\n",
    "\n",
    "```python\n",
    "ns.append(5) # append 5 to the list as the 5th element.\n",
    "``` \n",
    "\n",
    "To concatenation a list to another, we use the ```+``` operator, e.g.\n",
    "\n",
    "```python\n",
    "ns + ns # which yields [1,2,3,4,5,1,2,3,4,5]\n",
    "```\n",
    "\n",
    "To reverse a list, \n",
    "\n",
    "```python\n",
    "ns[::-1]\n",
    "```\n",
    "\n",
    "To extract a sub list from a list\n",
    "\n",
    "```python\n",
    "ns[2:4] # extract the 3rd and the 4th elements, e.g. ns[2], and ns[3].\n",
    "```\n",
    "\n",
    "To iterate through all the elements in a list, we can use a for-loop.\n",
    "\n",
    "```python\n",
    "for n in ns:\n",
    "    print(n)\n",
    "```\n",
    "\n",
    "### Exercise\n",
    "\n",
    "Implement a sum_sq (sum of squares) function, which sums up all the squares of the elements in a list.\n"
   ]
  },
  {
   "cell_type": "code",
   "execution_count": 9,
   "metadata": {},
   "outputs": [],
   "source": [
    "# todo: Exercise\n"
   ]
  },
  {
   "cell_type": "markdown",
   "metadata": {},
   "source": [
    "## Functional programming with map and reduce\n",
    "\n",
    "Python supports a limited form of functional programming. Functional programming allows functions to be passed in and returned as value. Functions can be named or anonymous. This allows code to be concise and easier for verification and proving for correctness.\n",
    "For instance, we can redefine the ```times2``` function using lambda expression\n",
    "\n",
    "```python\n",
    "times2_fun = lambda x: x*2\n",
    "```\n",
    "\n",
    "```map(f,l)``` takes a function ```f``` and a list ```l```, and apply ```f``` to every element in ```l```.\n",
    "\n",
    "```python\n",
    "list(map(times2_fun, ns))\n",
    "```\n",
    "yields a list of \n",
    "\n",
    "```python\n",
    "[2,4,6,8]\n",
    "```\n",
    "\n",
    "Note: prior Python 3, ```map()``` returns a list. Since Python 3, ```map()``` returns an iterator of sequence to support laziness. To convert the object back to a list, a call of ```list()``` on the result is required.\n",
    "\n",
    "\n",
    "Alternatively, we can use the lambda function directly\n",
    "\n",
    "```python\n",
    "list(map(lambda x: x*2, ns))\n",
    "```\n",
    "\n",
    "```reduce(g,l)``` takes a binary function ```g``` and a list ```l```, and aggregates all elements in ```l``` with ```g```.\n",
    "\n",
    "For example,\n",
    "\n",
    "```python\n",
    "from functools import reduce \n",
    "reduce(lambda x,y: x+y, ns)\n",
    "```\n",
    "\n",
    "yields \n",
    "\n",
    "```python\n",
    "10\n",
    "```\n",
    "\n",
    "### Exercise\n",
    "implement ```sum_sq``` using ```map```, ```reduce``` and lambda expressions.\n"
   ]
  },
  {
   "cell_type": "code",
   "execution_count": 10,
   "metadata": {},
   "outputs": [],
   "source": [
    "# todo: Exercise"
   ]
  },
  {
   "cell_type": "markdown",
   "metadata": {},
   "source": [
    "## String\n",
    "\n",
    "String is a special class of values in Python. On the high-level, it denotes a sequence of characters. It behaves like a character list. \n",
    "\n",
    "```python\n",
    "s = \"hello world\"\n",
    "length(s) # length of the string\n",
    "s[0] # first character in the string\n",
    "s[::-1] # reverse of the string\n",
    "s + s # string concatenation\n",
    "```\n",
    "\n",
    "Besides all the functions inherits from list, we find some additional string functions which are very useful.\n",
    "\n",
    "* Case conversion\n",
    "```python\n",
    "s.upper() # return a new string which is the upper case version of the original string\n",
    "```\n",
    "\n",
    "* Split by delimiters\n",
    "```python\n",
    "s.split(\" \") # return a list of strings, [\"hello\", world\"], \" \" is the delimintor.\n",
    "```\n",
    "\n",
    "* Removal of trailing space\n",
    "```python\n",
    "s.strip()\n",
    "```"
   ]
  },
  {
   "cell_type": "markdown",
   "metadata": {},
   "source": [
    "## Dictionary\n",
    "\n",
    "A Dictionary in Python is a look up table, consists of key-value pairs. \n",
    "\n",
    "```{}``` defines an empty dictionary. \n",
    "\n",
    "```python\n",
    "d = {}\n",
    "```\n",
    "\n",
    "```d[key] = value``` assigns a value to a slot in dictionary ```d``` indexed by ```key```.\n",
    "\n",
    "```python\n",
    "d[\"k1\"] = 1\n",
    "```\n",
    "If the key already exists, the existing value will be overwritten.\n",
    "\n",
    "```key in d``` is a boolean expression which tests whether the key ```key``` is in dictionary ```d```.\n",
    "\n",
    "```python\n",
    "if \"k1\" in d:\n",
    "    print (\"k1 is in the dictionary\")\n",
    "```\n",
    "\n",
    "```d[key]``` returns the value store in ```d``` indexed by ```key``` if exists, otherwise, a Key Error will be thrown.\n",
    "\n",
    "```python\n",
    "d[\"k1\"]\n",
    "```\n",
    "\n",
    "Note that the values can be of any type. Only scalar values can be used as keys.\n",
    "\n",
    "If we want to visit all the values in the dictionary, we can turn it into a key-value pair list and use for-loop to iterate over it.\n",
    "\n",
    "```python\n",
    "for key, val in d.items():\n",
    "    print(key, val)\n",
    "\n",
    "```\n",
    "\n",
    "### Exercise \n",
    "Implement a ```wc``` function which takes a string of text and counts and prints out the numbers of occurances of each word appearing in the text. A test case as follows, \n",
    "\n",
    "``` python\n",
    "wc('twinkle twinkle little star how i wonder what you are')\n",
    "```\n",
    "yields\n",
    "\n",
    "```\n",
    "little : 1\n",
    "star : 1\n",
    "twinkle : 2\n",
    "i : 1\n",
    "what : 1\n",
    "how : 1\n",
    "are : 1\n",
    "you : 1\n",
    "wonder : 1\n",
    "```"
   ]
  },
  {
   "cell_type": "code",
   "execution_count": 11,
   "metadata": {},
   "outputs": [],
   "source": [
    "# todo: Exercise"
   ]
  },
  {
   "cell_type": "markdown",
   "metadata": {},
   "source": [
    "## File I/O\n",
    "\n",
    "To read the content from a file, (assuming it is a text file), \n",
    "1. we use ```open(filename,'r')``` to initialize the file reader. \n",
    "1. use for-loop to iterate through the content. (or while loop with read()).\n",
    "1. ```close()``` the file reader when we are done.\n",
    "\n",
    "To write the content to a file, (assuming it is a text file), \n",
    "1. we use ```open(filename,'w')``` to initialize the file writer. \n",
    "1. use ```write()``` to write content to file.\n",
    "1. ```close()``` the file writer when we are done.\n",
    "\n",
    "\n",
    "For instance, the following code copy the content from file a to file b.\n",
    "\n",
    "```python\n",
    "def filecp(fileA, fileB):\n",
    "    with open(fileA, 'r') as fa: # same as fa = open(fileA, 'r'), but it's better in exception handelling\n",
    "        with open(fileB, 'w') as fb:\n",
    "            for l in fa:\n",
    "                fb.write(l)\n",
    "        fb.close()\n",
    "    fa.close()\n",
    "\n",
    "```\n",
    "for more reference refer to \n",
    "[https://docs.python.org/3/tutorial/inputoutput.html]\n",
    "\n",
    "### Exercise\n",
    "\n",
    "Make use of the knowledge of the implementation of ```wc()``` and the Python File I/O api, implement a ```wc_file()``` function which is performing the same word count operation, but instead of taking a string as input, ```wc_file()``` should take a file name as input, count all the word occurances in the file and print out the result.\n"
   ]
  },
  {
   "cell_type": "code",
   "execution_count": 12,
   "metadata": {},
   "outputs": [],
   "source": [
    "# todo: Exercise\n"
   ]
  },
  {
   "cell_type": "markdown",
   "metadata": {},
   "source": [
    "## Tuple\n",
    "\n",
    "Similar to list, tuple defines a collection of data values. Unlike list, the size of a tuple is fixed and not extendable. \n",
    "\n",
    "```python\n",
    "t = (1,2)\n",
    "\n",
    "print(t[0])\n",
    "```\n",
    "\n",
    "\n",
    "We can also \"pattern match\" a tuple value by putting the tuple pattern on the left hand side of the assignment statement. For instance\n",
    "\n",
    "```python\n",
    "(x,y) = t\n",
    "print(x)\n",
    "```\n",
    "\n",
    "### Exercise\n",
    "\n",
    "Define some tuple on your own and try to access its content.\n",
    "\n"
   ]
  },
  {
   "cell_type": "code",
   "execution_count": 13,
   "metadata": {},
   "outputs": [],
   "source": [
    "# todo: exercise"
   ]
  },
  {
   "cell_type": "markdown",
   "metadata": {},
   "source": [
    "## Class and Objects\n",
    "\n",
    "Object oriented programming allows us to define modula and resulable codes. The main idea is to pack data and method associated with the data into objects. \n",
    "\n",
    "```python\n",
    "x = str(\"abc\") # same as x = \"abc\"\n",
    "x.upper() # .upper() is a method associated with string object x.\n",
    "\n",
    "```\n",
    "\n",
    "Objects are instantiated from a class, which serves like a blue print / template. \n",
    "\n",
    "A class may inherit from another class. This allows features to be extended. \n",
    "\n",
    "```python \n",
    "class Geometry(object):\n",
    "    def __init__(self,_x,_y):\n",
    "        self.x = _x\n",
    "        self.y = _y\n",
    "\n",
    "class Circle(Geometry):\n",
    "    def __init__(self,_x,_y,_r):\n",
    "        Geometry.__init__(self,_x,_y)\n",
    "        self.r = _r\n",
    "\n",
    "class Rectangle(Geometry):\n",
    "    def __init__(self,_x,_y,_w,_h):\n",
    "        Geometry.__init__(self,_x,_y)\n",
    "        self.w = _w\n",
    "        self.h = _h\n",
    "```\n",
    "\n",
    "```\n",
    "circ = Circle(0,0,10)\n",
    "circ.r\n",
    "rect = Rectangle(3,-2,5,10)\n",
    "rect.w\n",
    "```\n",
    "\n",
    "### Exercise \n",
    "Modify the above Geometry, Circle and Rectangle example. Add an overridden function call ```.circumference()```.\n",
    "Note that the circumference calculation for circles is \n",
    "$$C = radius * 2 * \\pi$$\n",
    "$\\pi$ in Python is ```math.pi```\n",
    "\n",
    "The circumference calculation for rectangle is \n",
    "$$C = (width + height) * 2$$"
   ]
  },
  {
   "cell_type": "code",
   "execution_count": 14,
   "metadata": {},
   "outputs": [],
   "source": [
    "# todo: Exercise\n"
   ]
  },
  {
   "cell_type": "code",
   "execution_count": null,
   "metadata": {},
   "outputs": [],
   "source": []
  },
  {
   "cell_type": "code",
   "execution_count": null,
   "metadata": {},
   "outputs": [],
   "source": []
  }
 ],
 "metadata": {
  "kernelspec": {
   "display_name": "Python 3",
   "language": "python",
   "name": "python3"
  },
  "language_info": {
   "codemirror_mode": {
    "name": "ipython",
    "version": 3
   },
   "file_extension": ".py",
   "mimetype": "text/x-python",
   "name": "python",
   "nbconvert_exporter": "python",
   "pygments_lexer": "ipython3",
   "version": "3.7.6"
  }
 },
 "nbformat": 4,
 "nbformat_minor": 4
}
